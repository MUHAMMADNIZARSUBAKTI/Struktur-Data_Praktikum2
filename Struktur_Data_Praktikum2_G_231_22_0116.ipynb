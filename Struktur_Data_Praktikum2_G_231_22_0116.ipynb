{
  "nbformat": 4,
  "nbformat_minor": 0,
  "metadata": {
    "colab": {
      "provenance": []
    },
    "kernelspec": {
      "name": "python3",
      "display_name": "Python 3"
    },
    "language_info": {
      "name": "python"
    }
  },
  "cells": [
    {
      "cell_type": "code",
      "execution_count": 14,
      "metadata": {
        "colab": {
          "base_uri": "https://localhost:8080/"
        },
        "id": "pBYrXyRgIGi4",
        "outputId": "c2f399d5-e57c-47af-f562-09c787b57ec0"
      },
      "outputs": [
        {
          "output_type": "stream",
          "name": "stdout",
          "text": [
            "[1, 5, 4, 2, 8, 10, 3, 12, 15]\n",
            "[1, 2, 4, 5, 8, 10, 3, 12, 15]\n",
            "[1, 2, 3, 5, 8, 10, 4, 12, 15]\n",
            "[1, 2, 3, 4, 8, 10, 5, 12, 15]\n",
            "[1, 2, 3, 4, 5, 10, 8, 12, 15]\n",
            "[1, 2, 3, 4, 5, 8, 10, 12, 15]\n",
            "[1, 2, 3, 4, 5, 8, 10, 12, 15]\n",
            "[1, 2, 3, 4, 5, 8, 10, 12, 15]\n",
            "[1, 2, 3, 4, 5, 8, 10, 12, 15]\n"
          ]
        }
      ],
      "source": [
        "# BubbleSort berkerja dengan membandingkan elemen yang berdekatan dan menukarnya jika elemen sebelah kiri lebih besar dari sebelahkanan\n",
        "# i Variabel ini dapat digunakan untuk menyimpan indeks elemen yang sedang diproses\n",
        "# min_index Variabel ini dapat digunakan untuk menyimpan indeks elemen terkecil di sub-daftar yang sedang diurutkan\n",
        "def bubbleSort(alist):\n",
        " for i in range(0,len(alist)-1):\n",
        "  min_index= i\n",
        "  for location in range(i+1,len(alist)):\n",
        "   if alist[location]<alist[min_index]:\n",
        "      min_index = location\n",
        "  temp = alist[i]\n",
        "  alist[i] = alist[min_index]\n",
        "  alist[min_index] = temp\n",
        "  print(alist)\n",
        "angka = [5,1,4,2,8,10,3,12,15]\n",
        "bubbleSort(angka)\n",
        "print(angka)"
      ]
    },
    {
      "cell_type": "code",
      "source": [],
      "metadata": {
        "id": "5-zw0SRtIq7Z"
      },
      "execution_count": null,
      "outputs": []
    }
  ]
}